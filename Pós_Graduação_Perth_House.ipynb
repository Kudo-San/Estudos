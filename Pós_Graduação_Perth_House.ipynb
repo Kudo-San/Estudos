{
  "nbformat": 4,
  "nbformat_minor": 0,
  "metadata": {
    "colab": {
      "provenance": [],
      "gpuType": "T4",
      "authorship_tag": "ABX9TyMiBvBbIlp/f6+w9AxmvtCP",
      "include_colab_link": true
    },
    "kernelspec": {
      "name": "python3",
      "display_name": "Python 3"
    },
    "language_info": {
      "name": "python"
    },
    "accelerator": "GPU"
  },
  "cells": [
    {
      "cell_type": "markdown",
      "metadata": {
        "id": "view-in-github",
        "colab_type": "text"
      },
      "source": [
        "<a href=\"https://colab.research.google.com/github/Kudo-San/Estudos/blob/main/P%C3%B3s_Gradua%C3%A7%C3%A3o_Perth_House.ipynb\" target=\"_parent\"><img src=\"https://colab.research.google.com/assets/colab-badge.svg\" alt=\"Open In Colab\"/></a>"
      ]
    },
    {
      "cell_type": "markdown",
      "source": [
        "## NOVA ANÁLISE"
      ],
      "metadata": {
        "id": "zWj3OAEXgEP-"
      }
    },
    {
      "cell_type": "code",
      "source": [
        "# EXPLORAÇÃO DOS DADOS:\n",
        "# Primeiro, uma análise exploratória dos dados para entender a estrutura e as características dos dados.\n",
        "import pandas as pd\n",
        "\n",
        "# Carregar os dados\n",
        "df = pd.read_csv(\"all_perth.csv\")\n",
        "\n",
        "# Exibir informações básicas sobre o DataFrame\n",
        "print(df.info())\n",
        "print(df.describe())\n",
        "print(df.head())\n"
      ],
      "metadata": {
        "id": "0Rqw2k_agH7g"
      },
      "execution_count": null,
      "outputs": []
    },
    {
      "cell_type": "code",
      "source": [
        "# Verificação das colunas\n",
        "df.head(5)"
      ],
      "metadata": {
        "id": "2P0s0tpuuZMf"
      },
      "execution_count": null,
      "outputs": []
    },
    {
      "cell_type": "code",
      "source": [
        "# ANÁLISE DE VALORES AUSENTES:\n",
        "\n",
        "# Verifique se há valores ausentes nas colunas e decida como lidar com eles (remoção, imputação, etc.).\n",
        "# Verificar valores ausentes\n",
        "print(df.isnull().sum())\n",
        "\n",
        "# Opcional: remover linhas ou colunas com muitos valores ausentes\n",
        "# Remover linhas com valores ausentes\n",
        "df = df.dropna()"
      ],
      "metadata": {
        "id": "qU0AiLi_gOkV"
      },
      "execution_count": null,
      "outputs": []
    },
    {
      "cell_type": "code",
      "source": [
        "# ANÁLISE ESTATÍSTICA DESCRITIVA:\n",
        "\n",
        "# Estatística descritiva\n",
        "print(df.describe())"
      ],
      "metadata": {
        "id": "WGhOqdh3hhuj"
      },
      "execution_count": null,
      "outputs": []
    },
    {
      "cell_type": "code",
      "source": [
        "# Uma matriz de correlação é uma ferramenta usada para entender a relação entre várias variáveis em um conjunto de dados.\n",
        "\n",
        "# O que é correlação?:\n",
        "# Correlação é uma medida que indica como duas variáveis estão relacionadas entre si. Se duas variáveis aumentam ou diminuem juntas, dizemos que elas têm uma correlação positiva.\n",
        "# Se uma aumenta enquanto a outra diminui, elas têm uma correlação negativa. Se não há um padrão claro, dizemos que não há correlação.\n",
        "\n",
        "# Matriz de correlação:\n",
        "# Uma matriz de correlação é como uma tabela que mostra as correlações entre todas as combinações possíveis de variáveis em seu conjunto de dados. Cada linha e coluna representa uma variável,\n",
        "#e a célula onde uma linha e uma coluna se encontram mostra a correlação entre aquelas duas variáveis.\n",
        "\n",
        "#Como interpretar:\n",
        "# Os valores na matriz variam de -1 a 1. Um valor próximo de 1 indica uma forte correlação positiva, um valor próximo de -1 indica uma forte correlação negativa, e um valor próximo de 0 indica que não há correlação significativa."
      ],
      "metadata": {
        "id": "t3cJ5g30sBUB"
      },
      "execution_count": null,
      "outputs": []
    },
    {
      "cell_type": "code",
      "source": [
        "# ANÁLISE DE CORRELAÇÃO:\n",
        "# Calcular a correlação entre as variáveis numéricas para entender as relação entre elas\n",
        "\n",
        "import seaborn as sns\n",
        "import matplotlib.pyplot as plt\n",
        "\n",
        "# Selecionar apenas colunas numéricas para calcular a correlação\n",
        "numeric_df = df.select_dtypes(include=['number'])\n",
        "\n",
        "# Matrix de correlação\n",
        "corr_matrix = numeric_df.corr()\n",
        "\n",
        "# plotando matriz de correlação\n",
        "plt.figure(figsize=(10,8))\n",
        "sns.heatmap(corr_matrix, annot=True, cmap='coolwarm', linewidths=0.5)\n",
        "plt.show()"
      ],
      "metadata": {
        "id": "1FS-ZDB0kW5a"
      },
      "execution_count": null,
      "outputs": []
    },
    {
      "cell_type": "code",
      "source": [
        "# VISUALIZAÇÃO DOS DADOS:\n",
        "# gráficos para visualizar a distribuição dos dados e possíveis relações entre variáveis.\n",
        "\n",
        "# Distribuição de preços\n",
        "sns.histplot(df['PRICE'], kde=True)\n",
        "plt.show()\n",
        "\n",
        "# Relação entre preços e números de quartos\n",
        "sns.scatterplot(x='BEDROOMS', y='PRICE', data=df)\n",
        "plt.show()\n",
        "\n",
        "# Relação entre preço e distância até o CDB\n",
        "sns.scatterplot(x='CBD_DIST', y='PRICE', data=df)\n",
        "plt.show()\n"
      ],
      "metadata": {
        "id": "bwKF9c7jmEwR"
      },
      "execution_count": null,
      "outputs": []
    },
    {
      "cell_type": "code",
      "source": [
        "# ANÁLISE DE TENDÊNCIAS TEMPORAIS\n",
        "# Se houver uma coluna de datas (DATE_SOLD), você pode analisar tendências ao longo do tempo.\n",
        "\n",
        "# Converter DATA_SOLD para Datetime\n",
        "df['DATE_SOLD'] = pd.to_datetime(df['DATE_SOLD'])\n",
        "\n",
        "# Plotar preços ao longo do tempo\n",
        "plt.figure(figsize=(16,6))\n",
        "df.set_index('DATE_SOLD')['PRICE'].plot()\n",
        "plt.title('Preço dos imóveis ao longo do tempo')\n",
        "plt.xlabel('Data')\n",
        "plt.ylabel('Preço')\n",
        "plt.show()\n"
      ],
      "metadata": {
        "id": "uNvQhXGtsNoJ"
      },
      "execution_count": null,
      "outputs": []
    },
    {
      "cell_type": "code",
      "source": [
        "# ANÁLISE DE LOCALIZAÇÃO:\n",
        "# Com dados de latitude e longitude foi possivel realizar a análise geoespacial.\n",
        "\n",
        "# Importando as bbibliotecas\n",
        "import folium\n",
        "from folium.plugins import MarkerCluster\n",
        "import pandas as pd\n",
        "from IPython.display import display\n",
        "\n",
        "# Importando o arquivo CSV\n",
        "df = pd.read_csv('all_perth.csv')\n",
        "\n",
        "# Criando um mapa centrado na média de latitude e longitude\n",
        "map_center = [df['LATITUDE'].mean(), df['LONGITUDE'].mean()]\n",
        "map = folium.Map(location=map_center, zoom_start=12)\n",
        "\n",
        "# Devido a grande quantidade de marcadores, foi nesessario utilizar a biblioteca 'MarkerCluster' para agrupar os marcadores e melhorar o desempenho do mapa.\n",
        "# Criar um MarkerCluster\n",
        "marker_cluster = MarkerCluster().add_to(map)\n",
        "\n",
        "# Adicionar pontos ao MarkerCluster\n",
        "for idx, row in df.iterrows():\n",
        "    folium.Marker(\n",
        "        location=[row['LATITUDE'], row['LONGITUDE']],\n",
        "        popup=f\"Preço: {row['PRICE']}\\nEndereço: {row['ADDRESS']}\",\n",
        "    ).add_to(marker_cluster)\n",
        "\n",
        "# Exibir o mapa\n",
        "display(map)\n"
      ],
      "metadata": {
        "id": "-TIxSA7OuGHs"
      },
      "execution_count": null,
      "outputs": []
    },
    {
      "cell_type": "markdown",
      "source": [
        "## Criação de um modelo Preditivo de Machine Learning para prever com base nas caractesristicas disponiveis no Dataframe\n"
      ],
      "metadata": {
        "id": "SpWtKZyEvxCV"
      }
    },
    {
      "cell_type": "code",
      "source": [
        "# MODELAGEM PREDITIVA:\n",
        "#Importando as bibliotecas\n",
        "import pandas as pd\n",
        "from sklearn.model_selection import train_test_split\n",
        "from sklearn.linear_model import LinearRegression\n",
        "from sklearn.metrics import mean_squared_error\n"
      ],
      "metadata": {
        "id": "Yx43jYuGdiBG"
      },
      "execution_count": null,
      "outputs": []
    },
    {
      "cell_type": "code",
      "source": [
        "# Importando o arquivo CSV\n",
        "df = pd.read_csv('all_perth.csv')\n",
        "\n",
        "# Selecionando as features e target\n",
        "features = ['BEDROOMS', 'BATHROOMS', 'GARAGE', 'LAND_AREA', 'FLOOR_AREA', 'BUILD_YEAR', 'CBD_DIST', 'NEAREST_STN_DIST', 'NEAREST_SCH_DIST']\n",
        "target = 'PRICE'\n",
        "\n",
        "# Tratando os valores ausentes (uma forma simples foi remover linhas com valores ausentes)\n",
        "df = df.dropna(subset=features + [target])\n",
        "\n",
        "# Dividindo os dados em features (X) e target (y)\n",
        "X = df[features]\n",
        "y = df[target]\n",
        "\n",
        "# Dividir os dados em conjuntos de treino e teste\n",
        "X_train, X_test, y_train, y_test = train_test_split(X, y, test_size=0.2, random_state=42)\n"
      ],
      "metadata": {
        "id": "VYTak1JWveSE"
      },
      "execution_count": null,
      "outputs": []
    },
    {
      "cell_type": "code",
      "source": [
        "# Inicializando o modelo de regressão linear\n",
        "model = LinearRegression()\n",
        "\n",
        "# Treinando o modelo com os dados de treino\n",
        "model.fit(X_train, y_train)\n"
      ],
      "metadata": {
        "id": "8UmKO-ECvg-Q"
      },
      "execution_count": null,
      "outputs": []
    },
    {
      "cell_type": "code",
      "source": [
        "# Fazendo previsões com os dados de teste\n",
        "y_pred = model.predict(X_test)\n",
        "\n",
        "# Calcular o erro quadrático médio (MSE)\n",
        "mse = mean_squared_error(y_test, y_pred)\n",
        "print(f'Mean Squared Error: {mse}')\n",
        "\n",
        "# Opcional: exibir coeficientes do modelo\n",
        "coef_df = pd.DataFrame(model.coef_, index=features, columns=['Coefficient'])\n",
        "print(coef_df)\n"
      ],
      "metadata": {
        "id": "kuxdZnCJvq4R"
      },
      "execution_count": null,
      "outputs": []
    },
    {
      "cell_type": "code",
      "source": [
        "from sklearn.ensemble import RandomForestRegressor\n",
        "\n",
        "model = RandomForestRegressor()\n",
        "model.fit(X_train, y_train)\n",
        "y_pred = model.predict(X_test)\n",
        "mse = mean_squared_error(y_test, y_pred)\n",
        "print(f'Mean Squared Error: {mse}')\n"
      ],
      "metadata": {
        "id": "HUoPOWSpvso-"
      },
      "execution_count": null,
      "outputs": []
    },
    {
      "cell_type": "code",
      "source": [
        "import seaborn as sns\n",
        "import matplotlib.pyplot as plt\n",
        "\n",
        "plt.figure(figsize=(12, 8))\n",
        "sns.heatmap(X.corr(), annot=True, cmap='coolwarm')\n",
        "plt.show()\n"
      ],
      "metadata": {
        "id": "24pxg3tjxNhU"
      },
      "execution_count": null,
      "outputs": []
    }
  ]
}